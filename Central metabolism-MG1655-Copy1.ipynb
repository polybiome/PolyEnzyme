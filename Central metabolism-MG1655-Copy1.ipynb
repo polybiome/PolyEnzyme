{
 "cells": [
  {
   "cell_type": "code",
   "execution_count": 1,
   "metadata": {
    "collapsed": false
   },
   "outputs": [],
   "source": [
    "import escher\n",
    "import escher.urls\n",
    "import cobra\n",
    "import cobra.test\n",
    "import json\n",
    "import os\n",
    "from IPython.display import HTML\n",
    "from copy import deepcopy"
   ]
  },
  {
   "cell_type": "code",
   "execution_count": 2,
   "metadata": {
    "collapsed": false
   },
   "outputs": [
    {
     "name": "stdout",
     "output_type": "stream",
     "text": [
      "Escher directory: /Users/joanrue/anaconda/lib/python2.7/site-packages\n"
     ]
    }
   ],
   "source": [
    "d = escher.urls.root_directory\n",
    "print('Escher directory: %s' % d)\n",
    "with open('E_coli.polyamines.json', 'r') as f:\n",
    "    map_object = json.load(f)\n"
   ]
  },
  {
   "cell_type": "markdown",
   "metadata": {},
   "source": [
    "### Embed an Escher map in an IPython notebook"
   ]
  },
  {
   "cell_type": "code",
   "execution_count": 3,
   "metadata": {
    "collapsed": false
   },
   "outputs": [
    {
     "data": {
      "text/plain": [
       "[{u'map_name': u'e_coli_core.Core metabolism',\n",
       "  u'organism': u'Escherichia coli'},\n",
       " {u'map_name': u'iJO1366.Central metabolism',\n",
       "  u'organism': u'Escherichia coli'},\n",
       " {u'map_name': u'iJO1366.Fatty acid beta-oxidation',\n",
       "  u'organism': u'Escherichia coli'},\n",
       " {u'map_name': u'iJO1366.Fatty acid biosynthesis (saturated)',\n",
       "  u'organism': u'Escherichia coli'},\n",
       " {u'map_name': u'iJO1366.Nucleotide metabolism',\n",
       "  u'organism': u'Escherichia coli'},\n",
       " {u'map_name': u'RECON1.Amino acid metabolism (partial)',\n",
       "  u'organism': u'Homo sapiens'},\n",
       " {u'map_name': u'RECON1.Carbohydrate metabolism',\n",
       "  u'organism': u'Homo sapiens'},\n",
       " {u'map_name': u'RECON1.Glycolysis TCA PPP', u'organism': u'Homo sapiens'},\n",
       " {u'map_name': u'RECON1.Inositol retinol metabolism',\n",
       "  u'organism': u'Homo sapiens'},\n",
       " {u'map_name': u'RECON1.Tryptophan metabolism', u'organism': u'Homo sapiens'},\n",
       " {u'map_name': u'iMM904.Central carbon metabolism',\n",
       "  u'organism': u'Saccharomyces cerevisiae'}]"
      ]
     },
     "execution_count": 3,
     "metadata": {},
     "output_type": "execute_result"
    }
   ],
   "source": [
    "escher.list_available_maps()"
   ]
  },
  {
   "cell_type": "code",
   "execution_count": 4,
   "metadata": {
    "collapsed": false
   },
   "outputs": [
    {
     "ename": "Exception",
     "evalue": "Could not find the map E_coli.polyamines in the cache or on the server",
     "output_type": "error",
     "traceback": [
      "\u001b[0;31m---------------------------------------------------------------------------\u001b[0m",
      "\u001b[0;31mException\u001b[0m                                 Traceback (most recent call last)",
      "\u001b[0;32m<ipython-input-4-218d26fb7e25>\u001b[0m in \u001b[0;36m<module>\u001b[0;34m()\u001b[0m\n\u001b[0;32m----> 1\u001b[0;31m \u001b[0mb\u001b[0m \u001b[0;34m=\u001b[0m \u001b[0mescher\u001b[0m\u001b[0;34m.\u001b[0m\u001b[0mBuilder\u001b[0m\u001b[0;34m(\u001b[0m\u001b[0mmap_name\u001b[0m\u001b[0;34m=\u001b[0m\u001b[0;34m'E_coli.polyamines'\u001b[0m\u001b[0;34m)\u001b[0m\u001b[0;34m\u001b[0m\u001b[0m\n\u001b[0m\u001b[1;32m      2\u001b[0m \u001b[0mb\u001b[0m\u001b[0;34m.\u001b[0m\u001b[0mdisplay_in_notebook\u001b[0m\u001b[0;34m(\u001b[0m\u001b[0;34m)\u001b[0m\u001b[0;34m\u001b[0m\u001b[0m\n",
      "\u001b[0;32m/Users/joanrue/anaconda/lib/python2.7/site-packages/escher/plots.pyc\u001b[0m in \u001b[0;36m__init__\u001b[0;34m(self, map_name, map_json, model, model_name, model_json, embedded_css, reaction_data, metabolite_data, gene_data, local_host, id, safe, **kwargs)\u001b[0m\n\u001b[1;32m    335\u001b[0m         \u001b[0;32mif\u001b[0m \u001b[0mmap_name\u001b[0m \u001b[0;32mand\u001b[0m \u001b[0mmap_json\u001b[0m\u001b[0;34m:\u001b[0m\u001b[0;34m\u001b[0m\u001b[0m\n\u001b[1;32m    336\u001b[0m             \u001b[0mwarn\u001b[0m\u001b[0;34m(\u001b[0m\u001b[0;34m'map_json overrides map_name'\u001b[0m\u001b[0;34m)\u001b[0m\u001b[0;34m\u001b[0m\u001b[0m\n\u001b[0;32m--> 337\u001b[0;31m         \u001b[0mself\u001b[0m\u001b[0;34m.\u001b[0m\u001b[0m_load_map\u001b[0m\u001b[0;34m(\u001b[0m\u001b[0;34m)\u001b[0m\u001b[0;34m\u001b[0m\u001b[0m\n\u001b[0m\u001b[1;32m    338\u001b[0m         \u001b[0;31m# load the model\u001b[0m\u001b[0;34m\u001b[0m\u001b[0;34m\u001b[0m\u001b[0m\n\u001b[1;32m    339\u001b[0m         \u001b[0mself\u001b[0m\u001b[0;34m.\u001b[0m\u001b[0mmodel\u001b[0m \u001b[0;34m=\u001b[0m \u001b[0mmodel\u001b[0m\u001b[0;34m\u001b[0m\u001b[0m\n",
      "\u001b[0;32m/Users/joanrue/anaconda/lib/python2.7/site-packages/escher/plots.pyc\u001b[0m in \u001b[0;36m_load_map\u001b[0;34m(self)\u001b[0m\n\u001b[1;32m    433\u001b[0m                                                   safe=self.safe)\n\u001b[1;32m    434\u001b[0m         \u001b[0;32melif\u001b[0m \u001b[0mself\u001b[0m\u001b[0;34m.\u001b[0m\u001b[0mmap_name\u001b[0m \u001b[0;32mis\u001b[0m \u001b[0;32mnot\u001b[0m \u001b[0mNone\u001b[0m\u001b[0;34m:\u001b[0m\u001b[0;34m\u001b[0m\u001b[0m\n\u001b[0;32m--> 435\u001b[0;31m             \u001b[0mself\u001b[0m\u001b[0;34m.\u001b[0m\u001b[0mloaded_map_json\u001b[0m \u001b[0;34m=\u001b[0m \u001b[0mmap_json_for_name\u001b[0m\u001b[0;34m(\u001b[0m\u001b[0mself\u001b[0m\u001b[0;34m.\u001b[0m\u001b[0mmap_name\u001b[0m\u001b[0;34m)\u001b[0m\u001b[0;34m\u001b[0m\u001b[0m\n\u001b[0m\u001b[1;32m    436\u001b[0m \u001b[0;34m\u001b[0m\u001b[0m\n\u001b[1;32m    437\u001b[0m     \u001b[0;32mdef\u001b[0m \u001b[0m_embedded_css\u001b[0m\u001b[0;34m(\u001b[0m\u001b[0mself\u001b[0m\u001b[0;34m,\u001b[0m \u001b[0murl_source\u001b[0m\u001b[0;34m)\u001b[0m\u001b[0;34m:\u001b[0m\u001b[0;34m\u001b[0m\u001b[0m\n",
      "\u001b[0;32m/Users/joanrue/anaconda/lib/python2.7/site-packages/escher/plots.pyc\u001b[0m in \u001b[0;36mmap_json_for_name\u001b[0;34m(map_name, cache_dir)\u001b[0m\n\u001b[1;32m    170\u001b[0m \u001b[0;34m\u001b[0m\u001b[0m\n\u001b[1;32m    171\u001b[0m \u001b[0;32mdef\u001b[0m \u001b[0mmap_json_for_name\u001b[0m\u001b[0;34m(\u001b[0m\u001b[0mmap_name\u001b[0m\u001b[0;34m,\u001b[0m \u001b[0mcache_dir\u001b[0m\u001b[0;34m=\u001b[0m\u001b[0mget_cache_dir\u001b[0m\u001b[0;34m(\u001b[0m\u001b[0;34m)\u001b[0m\u001b[0;34m)\u001b[0m\u001b[0;34m:\u001b[0m\u001b[0;34m\u001b[0m\u001b[0m\n\u001b[0;32m--> 172\u001b[0;31m     \u001b[0;32mreturn\u001b[0m \u001b[0m_json_for_name\u001b[0m\u001b[0;34m(\u001b[0m\u001b[0mmap_name\u001b[0m\u001b[0;34m,\u001b[0m \u001b[0;34m'map'\u001b[0m\u001b[0;34m,\u001b[0m \u001b[0mcache_dir\u001b[0m\u001b[0;34m)\u001b[0m\u001b[0;34m\u001b[0m\u001b[0m\n\u001b[0m\u001b[1;32m    173\u001b[0m \u001b[0;34m\u001b[0m\u001b[0m\n\u001b[1;32m    174\u001b[0m \u001b[0;31m# helper functions\u001b[0m\u001b[0;34m\u001b[0m\u001b[0;34m\u001b[0m\u001b[0m\n",
      "\u001b[0;32m/Users/joanrue/anaconda/lib/python2.7/site-packages/escher/plots.pyc\u001b[0m in \u001b[0;36m_json_for_name\u001b[0;34m(name, kind, cache_dir)\u001b[0m\n\u001b[1;32m    146\u001b[0m         \u001b[0mmatch\u001b[0m \u001b[0;34m=\u001b[0m \u001b[0mmatch_in_index\u001b[0m\u001b[0;34m(\u001b[0m\u001b[0mname\u001b[0m\u001b[0;34m,\u001b[0m \u001b[0mserver_index\u001b[0m\u001b[0;34m(\u001b[0m\u001b[0;34m)\u001b[0m\u001b[0;34m,\u001b[0m \u001b[0mkind\u001b[0m\u001b[0;34m)\u001b[0m\u001b[0;34m\u001b[0m\u001b[0m\n\u001b[1;32m    147\u001b[0m         \u001b[0;32mif\u001b[0m \u001b[0mlen\u001b[0m\u001b[0;34m(\u001b[0m\u001b[0mmatch\u001b[0m\u001b[0;34m)\u001b[0m \u001b[0;34m==\u001b[0m \u001b[0;36m0\u001b[0m\u001b[0;34m:\u001b[0m\u001b[0;34m\u001b[0m\u001b[0m\n\u001b[0;32m--> 148\u001b[0;31m             \u001b[0;32mraise\u001b[0m \u001b[0mException\u001b[0m\u001b[0;34m(\u001b[0m\u001b[0;34m'Could not find the %s %s in the cache or on the server'\u001b[0m \u001b[0;34m%\u001b[0m \u001b[0;34m(\u001b[0m\u001b[0mkind\u001b[0m\u001b[0;34m,\u001b[0m \u001b[0mname\u001b[0m\u001b[0;34m)\u001b[0m\u001b[0;34m)\u001b[0m\u001b[0;34m\u001b[0m\u001b[0m\n\u001b[0m\u001b[1;32m    149\u001b[0m         \u001b[0morg\u001b[0m\u001b[0;34m,\u001b[0m \u001b[0mname\u001b[0m \u001b[0;34m=\u001b[0m \u001b[0mmatch\u001b[0m\u001b[0;34m[\u001b[0m\u001b[0;36m0\u001b[0m\u001b[0;34m]\u001b[0m\u001b[0;34m\u001b[0m\u001b[0m\n\u001b[1;32m    150\u001b[0m         url = (get_url(kind + '_download', source='web', protocol='https') +\n",
      "\u001b[0;31mException\u001b[0m: Could not find the map E_coli.polyamines in the cache or on the server"
     ]
    }
   ],
   "source": [
    "b = escher.Builder(map_name='E_coli.polyamines')\n",
    "b.display_in_notebook()\n"
   ]
  },
  {
   "cell_type": "markdown",
   "metadata": {},
   "source": [
    "### Plot FBA solutions in Escher"
   ]
  },
  {
   "cell_type": "code",
   "execution_count": null,
   "metadata": {
    "collapsed": false
   },
   "outputs": [],
   "source": [
    "model = cobra.io.load_json_model( \"iJO1366.json\") # E coli metabolic model\n",
    "\n",
    "FBA_Solution = model.optimize() # FBA of the original model\n",
    "\n",
    "print('Original Growth rate: %.9f' % FBA_Solution.f)\n"
   ]
  },
  {
   "cell_type": "code",
   "execution_count": null,
   "metadata": {
    "collapsed": false
   },
   "outputs": [],
   "source": [
    "b = escher.Builder(map_name='iJO1366.Central metabolism',\n",
    "                   reaction_data=FBA_Solution.x_dict,\n",
    "                   # color and size according to the absolute value\n",
    "                   reaction_styles=['color', 'size', 'abs', 'text'],\n",
    "                   # change the default colors\n",
    "                   reaction_scale=[{'type': 'min', 'color': '#cccccc', 'size': 4},\n",
    "                                   {'type': 'mean', 'color': '#0000dd', 'size': 20},\n",
    "                                   {'type': 'max', 'color': '#ff0000', 'size': 40}],\n",
    "                   # only show the primary metabolites\n",
    "                   hide_secondary_metabolites=True,\n",
    "                   highlight_missing = True)\n",
    "b.display_in_notebook()\n",
    "#b.display_in_browser()"
   ]
  },
  {
   "cell_type": "code",
   "execution_count": null,
   "metadata": {
    "collapsed": false
   },
   "outputs": [],
   "source": [
    "# MAP EDITION\n",
    "model_knockout = model.copy()\n",
    "cobra.manipulation.delete_model_genes(model_knockout, [\"b0693\"]) #ODC - speF\n",
    "cobra.manipulation.delete_model_genes(model_knockout, [\"b2965\"]) #ODC - speC\n",
    "cobra.manipulation.delete_model_genes(model_knockout, [\"b2937\"]) #Agmatinase - speB.\n",
    "knockout_FBA_solution = model_knockout.optimize() # FBA of the knockout\n",
    "\n",
    "print('Knockout Growth rate: %.9f' % knockout_FBA_solution.f)"
   ]
  },
  {
   "cell_type": "code",
   "execution_count": null,
   "metadata": {
    "collapsed": false
   },
   "outputs": [],
   "source": [
    "#PASS THE MODEL TO A NEW BUILDER\n",
    "b = escher.Builder(map_name='iJO1366.Central metabolism',\n",
    "                   reaction_data=knockout_FBA_solution.x_dict,\n",
    "                   # color and size according to the absolute value\n",
    "                   reaction_styles=['color', 'size', 'abs', 'text'],\n",
    "                   # change the default colors\n",
    "                   reaction_scale=[{'type': 'min', 'color': '#cccccc', 'size': 4},\n",
    "                                   {'type': 'mean', 'color': '#0000dd', 'size': 20},\n",
    "                                   {'type': 'max', 'color': '#ff0000', 'size': 40}],\n",
    "                   # only show the primary metabolites\n",
    "                   hide_secondary_metabolites=True,\n",
    "                   highlight_missing = True)\n",
    "b.display_in_notebook()\n",
    "#b.display_in_browser()"
   ]
  },
  {
   "cell_type": "code",
   "execution_count": null,
   "metadata": {
    "collapsed": false
   },
   "outputs": [],
   "source": [
    "print(model)"
   ]
  },
  {
   "cell_type": "code",
   "execution_count": null,
   "metadata": {
    "collapsed": true
   },
   "outputs": [],
   "source": []
  }
 ],
 "metadata": {
  "kernelspec": {
   "display_name": "Python 2",
   "language": "python",
   "name": "python2"
  },
  "language_info": {
   "codemirror_mode": {
    "name": "ipython",
    "version": 2
   },
   "file_extension": ".py",
   "mimetype": "text/x-python",
   "name": "python",
   "nbconvert_exporter": "python",
   "pygments_lexer": "ipython2",
   "version": "2.7.11"
  }
 },
 "nbformat": 4,
 "nbformat_minor": 0
}
