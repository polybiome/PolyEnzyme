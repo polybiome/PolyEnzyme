{
 "cells": [
  {
   "cell_type": "code",
   "execution_count": 1,
   "metadata": {
    "collapsed": false
   },
   "outputs": [],
   "source": [
    "import numpy as np\n",
    "import matplotlib.pyplot as plt\n",
    "%matplotlib inline"
   ]
  },
  {
   "cell_type": "code",
   "execution_count": 3,
   "metadata": {
    "collapsed": true
   },
   "outputs": [],
   "source": [
    "#Concentracions in E.Coli\n",
    "ORN = 0.010 #mM\n",
    "ARG = 0.570 #mM\n",
    "acCoA= 0.606 #mM \n",
    "CoA = 1.37 #mM\n",
    "PUT = 5.6 #mM\n",
    "SPD = 1.1 #mM\n",
    "SPM = 0.0 #mM\n",
    "SAM = 0.184 #mM\n",
    "A = 0 #INVENTAT decarboxylated S-adenosylmethionine\n",
    "aD = 0#INVENTAT\n",
    "aS = 0#INVENTAT\n",
    "Antz = 0#INVENTAT\n",
    "SAT = 0#INVENTAT\n",
    "PAO = 0 # WT -> No PAO\n",
    "SpdS = 0 # INVENTAT\n",
    "SpmS = 0 # INVENTAT\n",
    "MAT = 0 # INVENTAT\n",
    "Met = 1 # INVENTAT"
   ]
  },
  {
   "cell_type": "code",
   "execution_count": 4,
   "metadata": {
    "collapsed": false
   },
   "outputs": [],
   "source": [
    "   # Ks, v_maxs(turnovers)\n",
    "    \n",
    "#ODC\n",
    "K_ODC_cat  = 1 # 1/mM·s^-1\n",
    "K_ODC_M = 3.3 # 1/mM\n",
    "K_ODC_cat = 3.4 # 1/s\n",
    "K_ODC_iP = 1 # INVENTAT\n",
    "v_max_ODC = K_ODC_cat * ORN\n",
    "\n",
    "K_ODC_s = 0 # Synthesis (inventat assumint enzim constant)\n",
    "K_ODC_d = 0 # Degradació (inventat \"  \" \" \")\n",
    "K_ODC_eq = 0 # NPI\n",
    "#SAMdc\n",
    "K_SAMdc_cat = 0 # INVENTAT\n",
    "K_SAMdc_iS = 1 # INVENTAT\n",
    "K_SAMdc_M = 0.06\n",
    "K_SAMdc_aP = 1 # INVENTAT\n",
    "K_SAMdc_iA = 1 # INVENTAT\n",
    "\n",
    "v_max_SAMdc = K_SAMdc_cat * SAM\n",
    "\n",
    "K_SAMdc_s = 0 # Synthesis (inventat assumint enzim constant)\n",
    "K_SAMdc_d = 0 # Degradació (inventat \"  \" \" \")\n",
    "K_SAMdc_eq = 0 # NPI\n",
    "\n",
    "\n",
    "#SAT\n",
    "K_SAT_MS = 0.076\n",
    "K_SAT_MD = 0.323\n",
    "K_SAT_MacCoA = 0.031\n",
    "K_SAT_MCoA = 1 # INVENTAT\n",
    "K_SAT_MaS = 0.295\n",
    "K_SAT_D_cat = 0.087\n",
    "K_SAT_S_cat = 0.32\n",
    "\n",
    "v_max_SAT_S = K_SAT_S_cat * SAT\n",
    "v_max_SAT_D = K_SAT_D_cat * SAT\n",
    "\n",
    "K_SAT_s = 0 # Synthesis (inventat assumint enzim constant)\n",
    "K_SAT_d = 0 # Degradació (inventat \"  \" \" \")\n",
    "K_SAT_eq = 0 # NPI\n",
    "\n",
    "#PAO\n",
    "K_PAO_cat = 0 \n",
    "K_PAO_MaD = 1# INVENTAT \n",
    "K_PAO_MaS = 1# INVENTAT\n",
    "K_PAO_MD = 1# INVENTAT\n",
    "K_PAO_MS = 1# INVENTAT\n",
    "\n",
    "v_max_PAO = K_PAO_cat * PAO\n",
    "\n",
    "#SpdS\n",
    "\n",
    "K_SpdS_cat_A = 0.138\n",
    "K_SpdS_ia = 1 # INVENTAT\n",
    "K_SpdS_P = 0.0778\n",
    "K_SpdS_iD = 1 # INVENTAT\n",
    "K_SpdS_A = 0.032\n",
    "Ki_SpdS = 0.00005 #Inhibition from S-Adenosyl-1,8-diamino-3-thiooctane\n",
    "\n",
    "v_max_SpdS = K_SpdS_cat_A * SpdS\n",
    "\n",
    "#SpmS\n",
    "K_SpmS_cat = 0 # INVENTAT\n",
    "K_SpmS_ia = 1 # INVENTAT\n",
    "K_SpmS_D = 1 # INVENTAT\n",
    "K_SpmS_iS = 1 # INVENTAT\n",
    "K_SpmS_A = 1 # INVENTAT\n",
    "\n",
    "v_max_SpmS = K_SpmS_cat * SpmS\n",
    "\n",
    "#MAT \n",
    "K_MAT_cat = 0\n",
    "K_MAT_M = 1 # INVENTAT\n",
    "K_MAT_iMet = 1 # INVENTAT\n",
    "\n",
    "v_max_MAT = K_MAT_cat * MAT\n",
    "\n",
    "#acCoA\n",
    "K_acCoa = 0\n",
    "K_CoA = 0\n",
    "\n",
    "#Efflux\n",
    "K_P_efflux = 0\n",
    "K_aD_efflux = 0\n",
    "v_Pefflux = 0\n",
    "\n",
    "#Antz\n",
    "K_Antz_s = 0 # Synthesis (inventat assumint enzim constant)\n",
    "K_Antz_d = 0 # Degradació (inventat assumint enzim constant)\n",
    "K_Antz_eq = 0 # NPI"
   ]
  },
  {
   "cell_type": "code",
   "execution_count": 6,
   "metadata": {
    "collapsed": false
   },
   "outputs": [],
   "source": [
    "#TO BE UPDATED AT EACH TIME-STEP\n",
    "#Velocitats\n",
    "dt = 0.01\n",
    "tmax = 1e4\n",
    "store = np.zeros([10,int(tmax/dt)])\n",
    "store[:,0] = [PUT,SPD,SPM,SAM,A,aD,aS,acCoA,CoA,Antz]\n",
    "for t in range (0,int(tmax/dt)):\n",
    "    v_ODC = v_max_ODC*ORN/(K_ODC_M*(1+PUT/K_ODC_iP)+ORN) \n",
    "    v_SAMdc = (v_max_SAMdc/(1+SPM/K_SAMdc_iS))*SAM/(K_SAMdc_M*(1+K_SAMdc_aP/PUT+A/K_SAMdc_iA)+SAM)\n",
    "    v_SAT_D = (v_max_SAT_D*SPD*acCoA) /(K_SAT_MD*(1+SPM/K_SAT_MS)*K_SAT_MacCoA*(1+CoA/K_SAT_MCoA)+K_SAT_MacCoA*(1+CoA/K_SAT_MCoA)*SPD+K_SAT_MD*(1+SPM/K_SAT_MS)*acCoA+SPD*acCoA)\n",
    "    v_SAT_S = (v_max_SAT_S*SPM*acCoA) /(K_SAT_MS*(1+SPD/K_SAT_MD)*K_SAT_MacCoA*(1+CoA/K_SAT_MCoA)+K_SAT_MacCoA*(1+CoA/K_SAT_MCoA)*SPM+K_SAT_MD*(1+SPD/K_SAT_MS)*acCoA+SPM*acCoA)\n",
    "    v_PAO_aD = v_max_PAO*aD/(K_PAO_MaD*(1+aD/K_PAO_MaD+aS/K_PAO_MaS+SPD/K_PAO_MD+SPM/K_PAO_MS))\n",
    "    v_PAO_aS = v_max_PAO*aS/(K_PAO_MaS*(1+aD/K_PAO_MaD+aS/K_PAO_MaS+SPD/K_PAO_MD+SPM/K_PAO_MS))\n",
    "    v_SpdS = v_max_SpdS*A*PUT/(K_SpdS_ia*K_SpdS_P*(1+SPD/K_SpdS_iD)+K_SpdS_P*A+K_SpdS_A*(1+SPD/K_SpdS_iD)*PUT+A*PUT)\n",
    "    v_SpmS = v_max_SpmS*A*SPD/(K_SpmS_ia*K_SpmS_D*(1+SPM/K_SpmS_iS)+K_SpmS_D*A+K_SpmS_A*(1+SPM/K_SpmS_iS)*SPD+A*SPD)\n",
    "    v_MAT = v_max_MAT / (1+ (K_MAT_M/Met)*(1+SAM/K_MAT_iMet))\n",
    "    v_acCoA = K_acCoa * CoA\n",
    "    v_CoA = K_CoA * acCoA\n",
    "    v_P_efflux = K_P_efflux * PUT\n",
    "    v_aD_efflux = K_aD_efflux * aD\n",
    "\n",
    "    # Time-dependent variables\n",
    "    \n",
    "    dPUTdt = v_ODC + v_PAO_aS - v_SpdS - v_Pefflux \n",
    "    dSPDdt = v_SpdS + v_PAO_aS - v_SpmS - v_SAT_D\n",
    "    dSPMdt = v_SpmS - v_SAT_S\n",
    "    dSAMdt = v_MAT - v_SAMdc\n",
    "    dAdt = v_SAMdc - v_SpdS - v_SpmS\n",
    "    daDdt = v_SAT_D - v_PAO_aD - v_aD_efflux\n",
    "    daSdt = v_SAT_S - v_PAO_aS\n",
    "    dacCoAdt = v_acCoA - v_CoA - v_SAT_S - v_SAT_D\n",
    "    dCoAdt = v_CoA + v_SAT_S + v_SAT_S - v_acCoA\n",
    "    dv_max_ODCdt = K_ODC_s*(1/(1+(K_ODC_eq*(SPD+SPM))))-K_ODC_d*Antz*v_max_ODC\n",
    "    dAntzdt = K_Antz_s*(1-1/(1+K_Antz_eq*(SPD+SPM)))-K_Antz_d*Antz\n",
    "    dv_max_SAMdcdt = K_SAMdc_s*(1/(1+K_SAMdc_eq*(SPD+SPM)))-K_SAMdc_d*v_max_SAMdc\n",
    "    dv_max_SAT_Ddt = K_SAT_s*(1-1/(1+(K_SAT_eq*(SPD+SPM))))-K_SAT_d*(1/(1+K_SAT_eq*(SPD+SPM)))*v_max_SAT_D #REVISAR PQ MODIFICADA AL LIBRE ALBEDRÍO\n",
    "    dv_max_SAT_Sdt = K_SAT_s*(1-1/(1+(K_SAT_eq*(SPD+SPM))))-K_SAT_d*(1/(1+K_SAT_eq*(SPD+SPM)))*v_max_SAT_S #REVISAR PQ MODIFICADA AL LIBRE ALBEDRÍO\n",
    "\n",
    "\n",
    "    PUT = PUT + dPUTdt * dt \n",
    "    SPD = SPD + dSPDdt * dt\n",
    "    SPM = SPM + dSPMdt * dt\n",
    "    SAM = SAM + dSAMdt * dt\n",
    "    A   =  A  + dAdt   * dt\n",
    "    aD  =  aD + daDdt  * dt\n",
    "    aS  =  aS + daSdt  * dt\n",
    "    acCoA = acCoA + dacCoAdt * dt\n",
    "    CoA = CoA + dCoAdt\n",
    "    v_max_ODC = v_max_ODC + dv_max_ODCdt * dt\n",
    "    Antz = Antz + dAntzdt * dt\n",
    "    v_max_SAMdc = v_max_SAMdc + dv_max_SAMdcdt * dt\n",
    "    v_max_SAT_D = v_max_SAT_D + dv_max_SAT_Ddt * dt\n",
    "    v_max_SAT_S = v_max_SAT_S + dv_max_SAT_Sdt * dt\n",
    "    store[:,t] = [PUT,SPD,SPM,SAM,A,aD,aS,acCoA,CoA,Antz]"
   ]
  },
  {
   "cell_type": "code",
   "execution_count": 9,
   "metadata": {
    "collapsed": false
   },
   "outputs": [
    {
     "data": {
      "text/plain": [
       "<matplotlib.text.Text at 0x151429907f0>"
      ]
     },
     "execution_count": 9,
     "metadata": {},
     "output_type": "execute_result"
    },
    {
     "data": {
      "image/png": "[encoded data removed]",
      "text/plain": [
       "<matplotlib.figure.Figure at 0x1512e36a5f8>"
      ]
     },
     "metadata": {},
     "output_type": "display_data"
    }
   ],
   "source": [
    "plt.plot(store.T)\n",
    "plt.legend(['PUT','SPD','SPM','SAM','A','aD','aS','acCoA','CoA','Antz'])\n",
    "plt.xlabel('time [a.u]')\n",
    "plt.ylabel('Concentration [mM]')"
   ]
  },
  {
   "cell_type": "code",
   "execution_count": 6,
   "metadata": {
    "collapsed": false
   },
   "outputs": [
    {
     "data": {
      "text/plain": [
       "0.000606"
      ]
     },
     "execution_count": 6,
     "metadata": {},
     "output_type": "execute_result"
    }
   ],
   "source": [
    "0.606e-3"
   ]
  },
  {
   "cell_type": "code",
   "execution_count": null,
   "metadata": {
    "collapsed": true
   },
   "outputs": [],
   "source": []
  }
 ],
 "metadata": {
  "kernelspec": {
   "display_name": "Python 3",
   "language": "python",
   "name": "python3"
  },
  "language_info": {
   "codemirror_mode": {
    "name": "ipython",
    "version": 3
   },
   "file_extension": ".py",
   "mimetype": "text/x-python",
   "name": "python",
   "nbconvert_exporter": "python",
   "pygments_lexer": "ipython3",
   "version": "3.5.1"
  }
 },
 "nbformat": 4,
 "nbformat_minor": 0
}
